{
  "nbformat": 4,
  "nbformat_minor": 0,
  "metadata": {
    "colab": {
      "provenance": [],
      "authorship_tag": "ABX9TyNKlRHGj+DwEQKi4RGaWzmO",
      "include_colab_link": true
    },
    "kernelspec": {
      "name": "python3",
      "display_name": "Python 3"
    },
    "language_info": {
      "name": "python"
    }
  },
  "cells": [
    {
      "cell_type": "markdown",
      "metadata": {
        "id": "view-in-github",
        "colab_type": "text"
      },
      "source": [
        "<a href=\"https://colab.research.google.com/github/mwmxyz/farwithin/blob/main/Copy_of_Villain_ChatBot.ipynb\" target=\"_parent\"><img src=\"https://colab.research.google.com/assets/colab-badge.svg\" alt=\"Open In Colab\"/></a>"
      ]
    },
    {
      "cell_type": "code",
      "execution_count": null,
      "metadata": {
        "colab": {
          "base_uri": "https://localhost:8080/"
        },
        "id": "SblJHgy7Ykos",
        "outputId": "86da6259-35a5-429f-b787-25f7959f3a9b"
      },
      "outputs": [
        {
          "output_type": "stream",
          "name": "stdout",
          "text": [
            "Requirement already satisfied: nltk in /usr/local/lib/python3.10/dist-packages (3.9.1)\n",
            "Requirement already satisfied: requests in /usr/local/lib/python3.10/dist-packages (2.32.3)\n",
            "Requirement already satisfied: beautifulsoup4 in /usr/local/lib/python3.10/dist-packages (4.12.3)\n",
            "Requirement already satisfied: click in /usr/local/lib/python3.10/dist-packages (from nltk) (8.1.7)\n",
            "Requirement already satisfied: joblib in /usr/local/lib/python3.10/dist-packages (from nltk) (1.4.2)\n",
            "Requirement already satisfied: regex>=2021.8.3 in /usr/local/lib/python3.10/dist-packages (from nltk) (2024.9.11)\n",
            "Requirement already satisfied: tqdm in /usr/local/lib/python3.10/dist-packages (from nltk) (4.66.6)\n",
            "Requirement already satisfied: charset-normalizer<4,>=2 in /usr/local/lib/python3.10/dist-packages (from requests) (3.4.0)\n",
            "Requirement already satisfied: idna<4,>=2.5 in /usr/local/lib/python3.10/dist-packages (from requests) (3.10)\n",
            "Requirement already satisfied: urllib3<3,>=1.21.1 in /usr/local/lib/python3.10/dist-packages (from requests) (2.2.3)\n",
            "Requirement already satisfied: certifi>=2017.4.17 in /usr/local/lib/python3.10/dist-packages (from requests) (2024.8.30)\n",
            "Requirement already satisfied: soupsieve>1.2 in /usr/local/lib/python3.10/dist-packages (from beautifulsoup4) (2.6)\n"
          ]
        }
      ],
      "source": [
        "!pip install nltk requests beautifulsoup4\n"
      ]
    },
    {
      "cell_type": "code",
      "source": [
        "import nltk\n",
        "import requests\n",
        "from bs4 import BeautifulSoup\n",
        "import re\n",
        "import random\n",
        "\n",
        "nltk.download('punkt')\n",
        "\n",
        "# Function to download text from Project Gutenberg\n",
        "def download_play(url):\n",
        "    response = requests.get(url)\n",
        "    if response.status_code == 200:\n",
        "        text = response.text\n",
        "        # Remove the Project Gutenberg header and footer\n",
        "        start = text.find('*** START OF THIS PROJECT GUTENBERG EBOOK')\n",
        "        end = text.find('*** END OF THIS PROJECT GUTENBERG EBOOK')\n",
        "        if start != -1 and end != -1:\n",
        "            text = text[start:end]\n",
        "        return text\n",
        "    else:\n",
        "        print(f\"Failed to download from {url}\")\n",
        "        return \"\"\n",
        "\n",
        "# URLs of the plays on Project Gutenberg\n",
        "plays = {\n",
        "    \"Macbeth\": \"https://www.gutenberg.org/files/2264/2264-0.txt\",\n",
        "    \"Othello\": \"https://www.gutenberg.org/files/1531/1531-0.txt\",\n",
        "    \"King Lear\": \"https://www.gutenberg.org/files/1124/1124-0.txt\",\n",
        "    \"Hamlet\": \"https://www.gutenberg.org/files/1524/1524-0.txt\"\n",
        "}\n",
        "\n",
        "# Download all plays\n",
        "play_texts = {}\n",
        "for play, url in plays.items():\n",
        "    print(f\"Downloading {play}...\")\n",
        "    play_texts[play] = download_play(url)\n",
        "\n",
        "print(\"All plays downloaded.\")\n"
      ],
      "metadata": {
        "colab": {
          "base_uri": "https://localhost:8080/"
        },
        "id": "ymNRe6Y3YsWT",
        "outputId": "7f8b1abf-5723-4f34-8afd-3c395a941d9f"
      },
      "execution_count": null,
      "outputs": [
        {
          "output_type": "stream",
          "name": "stderr",
          "text": [
            "[nltk_data] Downloading package punkt to /root/nltk_data...\n",
            "[nltk_data]   Unzipping tokenizers/punkt.zip.\n"
          ]
        },
        {
          "output_type": "stream",
          "name": "stdout",
          "text": [
            "Downloading Macbeth...\n",
            "Failed to download from https://www.gutenberg.org/files/2264/2264-0.txt\n",
            "Downloading Othello...\n",
            "Downloading King Lear...\n",
            "Downloading Hamlet...\n",
            "All plays downloaded.\n"
          ]
        }
      ]
    },
    {
      "cell_type": "code",
      "source": [
        "villains = {\n",
        "    \"Macbeth\": [\"MACBETH\"],\n",
        "    \"Othello\": [\"IAGO\"],\n",
        "    \"King Lear\": [\"GLOUCESTER\", \"EDGAR\"],  # Edgar disguises as Poor Tom\n",
        "    \"Hamlet\": [\"CLAUDIUS\"]\n",
        "}\n"
      ],
      "metadata": {
        "id": "uMa_XLDGYw2s"
      },
      "execution_count": null,
      "outputs": []
    },
    {
      "cell_type": "code",
      "source": [
        "def extract_dialogues(text, character_names):\n",
        "    dialogues = []\n",
        "    lines = text.split('\\n')\n",
        "    current_character = None\n",
        "    for line in lines:\n",
        "        # Check if the line starts with a character's name in uppercase\n",
        "        character_match = re.match(r'^([A-Z][A-Z\\s]+)\\.', line)\n",
        "        if character_match:\n",
        "            character = character_match.group(1).strip()\n",
        "            if character in character_names:\n",
        "                current_character = character\n",
        "            else:\n",
        "                current_character = None\n",
        "        elif current_character:\n",
        "            # Clean the line\n",
        "            clean_line = line.strip()\n",
        "            if clean_line and not clean_line.startswith('[') and not clean_line.startswith('Scene') and not clean_line.startswith('Act'):\n",
        "                dialogues.append(clean_line)\n",
        "    return dialogues\n",
        "\n",
        "# Extract dialogues for all villains\n",
        "villain_dialogues = []\n",
        "\n",
        "for play, characters in villains.items():\n",
        "    print(f\"Extracting dialogues from {play}...\")\n",
        "    text = play_texts[play]\n",
        "    dialogues = extract_dialogues(text, characters)\n",
        "    villain_dialogues.extend(dialogues)\n",
        "\n",
        "print(f\"Extracted {len(villain_dialogues)} villainous dialogues.\")\n"
      ],
      "metadata": {
        "colab": {
          "base_uri": "https://localhost:8080/"
        },
        "id": "tcYWX5FyYzNf",
        "outputId": "c9c032ea-810b-4766-ed56-326f143c76e7"
      },
      "execution_count": null,
      "outputs": [
        {
          "output_type": "stream",
          "name": "stdout",
          "text": [
            "Extracting dialogues from Macbeth...\n",
            "Extracting dialogues from Othello...\n",
            "Extracting dialogues from King Lear...\n",
            "Extracting dialogues from Hamlet...\n",
            "Extracted 1037 villainous dialogues.\n"
          ]
        }
      ]
    },
    {
      "cell_type": "code",
      "source": [
        "def chatbot():\n",
        "    print(\"Welcome to the Shakespearean Villain Chatbot!\")\n",
        "    print(\"You can type 'exit' to end the conversation.\\n\")\n",
        "    while True:\n",
        "        user_input = input(\"You: \")\n",
        "        if user_input.lower() in ['exit', 'quit']:\n",
        "            print(\"Villain: Until we meet again...\")\n",
        "            break\n",
        "        else:\n",
        "            response = random.choice(villain_dialogues)\n",
        "            print(f\"Villain: {response}\\n\")\n",
        "\n",
        "# Run the chatbot\n",
        "chatbot()\n"
      ],
      "metadata": {
        "colab": {
          "base_uri": "https://localhost:8080/"
        },
        "id": "kdmAhFXDY5yV",
        "outputId": "b7addb79-9faf-429e-f630-ef6b8864ebc5"
      },
      "execution_count": null,
      "outputs": [
        {
          "output_type": "stream",
          "name": "stdout",
          "text": [
            "Welcome to the Shakespearean Villain Chatbot!\n",
            "You can type 'exit' to end the conversation.\n",
            "\n"
          ]
        }
      ]
    }
  ]
}